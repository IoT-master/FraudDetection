{
 "cells": [
  {
   "cell_type": "code",
   "execution_count": 1,
   "metadata": {},
   "outputs": [],
   "source": [
    "import pandas as pd"
   ]
  },
  {
   "cell_type": "code",
   "execution_count": 2,
   "metadata": {},
   "outputs": [
    {
     "name": "stderr",
     "output_type": "stream",
     "text": [
      "/Users/senhmo/anaconda3/lib/python3.6/site-packages/IPython/core/interactiveshell.py:3063: DtypeWarning: Columns (15) have mixed types. Specify dtype option on import or set low_memory=False.\n",
      "  interactivity=interactivity, compiler=compiler, result=result)\n"
     ]
    }
   ],
   "source": [
    "claims_df = pd.read_csv('HWA-Brovsi-WSA-Claims-Validated.csv', index_col='Index')"
   ]
  },
  {
   "cell_type": "code",
   "execution_count": 3,
   "metadata": {},
   "outputs": [
    {
     "data": {
      "text/html": [
       "<div>\n",
       "<style scoped>\n",
       "    .dataframe tbody tr th:only-of-type {\n",
       "        vertical-align: middle;\n",
       "    }\n",
       "\n",
       "    .dataframe tbody tr th {\n",
       "        vertical-align: top;\n",
       "    }\n",
       "\n",
       "    .dataframe thead th {\n",
       "        text-align: right;\n",
       "    }\n",
       "</style>\n",
       "<table border=\"1\" class=\"dataframe\">\n",
       "  <thead>\n",
       "    <tr style=\"text-align: right;\">\n",
       "      <th></th>\n",
       "      <th>EMP_ID</th>\n",
       "      <th>CLM_SYS</th>\n",
       "      <th>CLM_REF</th>\n",
       "      <th>WSA_TYP</th>\n",
       "      <th>FLEXBEN_TYPE</th>\n",
       "      <th>CLM_DT</th>\n",
       "      <th>CLM_YR</th>\n",
       "      <th>CLM_AMT</th>\n",
       "      <th>RCPT_DT</th>\n",
       "      <th>RCPT_DAY</th>\n",
       "      <th>DAY_TAG</th>\n",
       "      <th>CLM.STAT</th>\n",
       "      <th>REIMB_DT</th>\n",
       "      <th>REIMB_YR</th>\n",
       "      <th>EA_DT</th>\n",
       "      <th>RISK</th>\n",
       "    </tr>\n",
       "    <tr>\n",
       "      <th>Index</th>\n",
       "      <th></th>\n",
       "      <th></th>\n",
       "      <th></th>\n",
       "      <th></th>\n",
       "      <th></th>\n",
       "      <th></th>\n",
       "      <th></th>\n",
       "      <th></th>\n",
       "      <th></th>\n",
       "      <th></th>\n",
       "      <th></th>\n",
       "      <th></th>\n",
       "      <th></th>\n",
       "      <th></th>\n",
       "      <th></th>\n",
       "      <th></th>\n",
       "    </tr>\n",
       "  </thead>\n",
       "  <tbody>\n",
       "    <tr>\n",
       "      <th>0</th>\n",
       "      <td>11869</td>\n",
       "      <td>WSA</td>\n",
       "      <td>EFSA0087162</td>\n",
       "      <td>FLXI</td>\n",
       "      <td>5.0</td>\n",
       "      <td>4/11/16</td>\n",
       "      <td>2016</td>\n",
       "      <td>492.0</td>\n",
       "      <td>29/9/16</td>\n",
       "      <td>Thursday</td>\n",
       "      <td>WEEKDAY</td>\n",
       "      <td>3</td>\n",
       "      <td>3/1/17</td>\n",
       "      <td>2017</td>\n",
       "      <td>21/9/17</td>\n",
       "      <td>1</td>\n",
       "    </tr>\n",
       "    <tr>\n",
       "      <th>1</th>\n",
       "      <td>8965</td>\n",
       "      <td>WSA</td>\n",
       "      <td>EFSA0087207</td>\n",
       "      <td>FLXI</td>\n",
       "      <td>4.0</td>\n",
       "      <td>9/11/16</td>\n",
       "      <td>2016</td>\n",
       "      <td>471.0</td>\n",
       "      <td>30/9/16</td>\n",
       "      <td>Friday</td>\n",
       "      <td>WEEKDAY</td>\n",
       "      <td>3</td>\n",
       "      <td>3/1/17</td>\n",
       "      <td>2017</td>\n",
       "      <td>21/9/17</td>\n",
       "      <td>1</td>\n",
       "    </tr>\n",
       "    <tr>\n",
       "      <th>2</th>\n",
       "      <td>8998</td>\n",
       "      <td>WSA</td>\n",
       "      <td>EFSA0087210</td>\n",
       "      <td>FLXI</td>\n",
       "      <td>6.0</td>\n",
       "      <td>9/11/16</td>\n",
       "      <td>2016</td>\n",
       "      <td>496.0</td>\n",
       "      <td>30/9/16</td>\n",
       "      <td>Friday</td>\n",
       "      <td>WEEKDAY</td>\n",
       "      <td>3</td>\n",
       "      <td>7/1/17</td>\n",
       "      <td>2017</td>\n",
       "      <td>21/9/17</td>\n",
       "      <td>1</td>\n",
       "    </tr>\n",
       "    <tr>\n",
       "      <th>3</th>\n",
       "      <td>2098</td>\n",
       "      <td>WSA</td>\n",
       "      <td>EFSA0087208</td>\n",
       "      <td>FLXI</td>\n",
       "      <td>2.0</td>\n",
       "      <td>9/11/16</td>\n",
       "      <td>2016</td>\n",
       "      <td>464.0</td>\n",
       "      <td>3/10/16</td>\n",
       "      <td>Monday</td>\n",
       "      <td>WEEKDAY</td>\n",
       "      <td>3</td>\n",
       "      <td>5/1/17</td>\n",
       "      <td>2017</td>\n",
       "      <td>21/9/17</td>\n",
       "      <td>1</td>\n",
       "    </tr>\n",
       "    <tr>\n",
       "      <th>4</th>\n",
       "      <td>9331</td>\n",
       "      <td>WSA</td>\n",
       "      <td>EFSA0087236</td>\n",
       "      <td>FLXI</td>\n",
       "      <td>2.0</td>\n",
       "      <td>11/11/16</td>\n",
       "      <td>2016</td>\n",
       "      <td>454.0</td>\n",
       "      <td>6/10/16</td>\n",
       "      <td>Thursday</td>\n",
       "      <td>WEEKDAY</td>\n",
       "      <td>3</td>\n",
       "      <td>2/1/17</td>\n",
       "      <td>2017</td>\n",
       "      <td>21/9/17</td>\n",
       "      <td>1</td>\n",
       "    </tr>\n",
       "  </tbody>\n",
       "</table>\n",
       "</div>"
      ],
      "text/plain": [
       "       EMP_ID CLM_SYS      CLM_REF WSA_TYP  FLEXBEN_TYPE    CLM_DT  CLM_YR  \\\n",
       "Index                                                                        \n",
       "0       11869     WSA  EFSA0087162    FLXI           5.0   4/11/16    2016   \n",
       "1        8965     WSA  EFSA0087207    FLXI           4.0   9/11/16    2016   \n",
       "2        8998     WSA  EFSA0087210    FLXI           6.0   9/11/16    2016   \n",
       "3        2098     WSA  EFSA0087208    FLXI           2.0   9/11/16    2016   \n",
       "4        9331     WSA  EFSA0087236    FLXI           2.0  11/11/16    2016   \n",
       "\n",
       "       CLM_AMT  RCPT_DT  RCPT_DAY  DAY_TAG  CLM.STAT REIMB_DT  REIMB_YR  \\\n",
       "Index                                                                     \n",
       "0        492.0  29/9/16  Thursday  WEEKDAY         3   3/1/17      2017   \n",
       "1        471.0  30/9/16    Friday  WEEKDAY         3   3/1/17      2017   \n",
       "2        496.0  30/9/16    Friday  WEEKDAY         3   7/1/17      2017   \n",
       "3        464.0  3/10/16    Monday  WEEKDAY         3   5/1/17      2017   \n",
       "4        454.0  6/10/16  Thursday  WEEKDAY         3   2/1/17      2017   \n",
       "\n",
       "         EA_DT  RISK  \n",
       "Index                 \n",
       "0      21/9/17     1  \n",
       "1      21/9/17     1  \n",
       "2      21/9/17     1  \n",
       "3      21/9/17     1  \n",
       "4      21/9/17     1  "
      ]
     },
     "execution_count": 3,
     "metadata": {},
     "output_type": "execute_result"
    }
   ],
   "source": [
    "claims_df.head()"
   ]
  },
  {
   "cell_type": "code",
   "execution_count": 4,
   "metadata": {},
   "outputs": [
    {
     "name": "stdout",
     "output_type": "stream",
     "text": [
      "EMP_ID 0\n",
      "CLM_SYS 0\n",
      "CLM_REF 0\n",
      "WSA_TYP 0\n",
      "FLEXBEN_TYPE 16758\n",
      "CLM_DT 0\n",
      "CLM_YR 0\n",
      "CLM_AMT 0\n",
      "RCPT_DT 0\n",
      "RCPT_DAY 0\n",
      "DAY_TAG 0\n",
      "CLM.STAT 0\n",
      "REIMB_DT 0\n",
      "REIMB_YR 0\n",
      "EA_DT 5109\n",
      "RISK 0\n"
     ]
    }
   ],
   "source": [
    "for each_column in claims_df.columns:\n",
    "    print(each_column, claims_df[each_column].isna().sum())"
   ]
  },
  {
   "cell_type": "code",
   "execution_count": 5,
   "metadata": {},
   "outputs": [
    {
     "name": "stderr",
     "output_type": "stream",
     "text": [
      "/Users/senhmo/anaconda3/lib/python3.6/site-packages/ipykernel_launcher.py:3: FutureWarning: Passing timedelta64-dtype data is deprecated, will raise a TypeError in a future version\n",
      "  This is separate from the ipykernel package so we can avoid doing imports until\n",
      "/Users/senhmo/anaconda3/lib/python3.6/site-packages/ipykernel_launcher.py:3: SettingWithCopyWarning: \n",
      "A value is trying to be set on a copy of a slice from a DataFrame.\n",
      "Try using .loc[row_indexer,col_indexer] = value instead\n",
      "\n",
      "See the caveats in the documentation: http://pandas.pydata.org/pandas-docs/stable/user_guide/indexing.html#returning-a-view-versus-a-copy\n",
      "  This is separate from the ipykernel package so we can avoid doing imports until\n",
      "/Users/senhmo/anaconda3/lib/python3.6/site-packages/ipykernel_launcher.py:4: FutureWarning: Passing timedelta64-dtype data is deprecated, will raise a TypeError in a future version\n",
      "  after removing the cwd from sys.path.\n",
      "/Users/senhmo/anaconda3/lib/python3.6/site-packages/ipykernel_launcher.py:4: SettingWithCopyWarning: \n",
      "A value is trying to be set on a copy of a slice from a DataFrame.\n",
      "Try using .loc[row_indexer,col_indexer] = value instead\n",
      "\n",
      "See the caveats in the documentation: http://pandas.pydata.org/pandas-docs/stable/user_guide/indexing.html#returning-a-view-versus-a-copy\n",
      "  after removing the cwd from sys.path.\n"
     ]
    }
   ],
   "source": [
    "from datetime import datetime as dt\n",
    "claims_df_nona = claims_df.dropna()\n",
    "claims_df_nona['ClaimTime'] = pd.DatetimeIndex(pd.to_datetime(claims_df_nona['CLM_DT'], format='%d/%m/%y') - pd.to_datetime(claims_df_nona['RCPT_DT'], format='%d/%m/%y')).day\n",
    "claims_df_nona['DistriTime'] = pd.DatetimeIndex(pd.to_datetime(claims_df_nona['EA_DT'], format='%d/%m/%y') - pd.to_datetime(claims_df_nona['RCPT_DT'], format='%d/%m/%y')).day"
   ]
  },
  {
   "cell_type": "code",
   "execution_count": 6,
   "metadata": {},
   "outputs": [
    {
     "name": "stdout",
     "output_type": "stream",
     "text": [
      "EMP_ID 0\n",
      "CLM_SYS 0\n",
      "CLM_REF 0\n",
      "WSA_TYP 0\n",
      "FLEXBEN_TYPE 0\n",
      "CLM_DT 0\n",
      "CLM_YR 0\n",
      "CLM_AMT 0\n",
      "RCPT_DT 0\n",
      "RCPT_DAY 0\n",
      "DAY_TAG 0\n",
      "CLM.STAT 0\n",
      "REIMB_DT 0\n",
      "REIMB_YR 0\n",
      "EA_DT 0\n",
      "RISK 0\n",
      "ClaimTime 0\n",
      "DistriTime 0\n"
     ]
    }
   ],
   "source": [
    "for each_column in claims_df_nona.columns:\n",
    "    print(each_column, claims_df_nona[each_column].isna().sum())"
   ]
  },
  {
   "cell_type": "code",
   "execution_count": 7,
   "metadata": {},
   "outputs": [
    {
     "data": {
      "text/html": [
       "<div>\n",
       "<style scoped>\n",
       "    .dataframe tbody tr th:only-of-type {\n",
       "        vertical-align: middle;\n",
       "    }\n",
       "\n",
       "    .dataframe tbody tr th {\n",
       "        vertical-align: top;\n",
       "    }\n",
       "\n",
       "    .dataframe thead th {\n",
       "        text-align: right;\n",
       "    }\n",
       "</style>\n",
       "<table border=\"1\" class=\"dataframe\">\n",
       "  <thead>\n",
       "    <tr style=\"text-align: right;\">\n",
       "      <th></th>\n",
       "      <th>EMP_ID</th>\n",
       "      <th>CLM_SYS</th>\n",
       "      <th>CLM_REF</th>\n",
       "      <th>WSA_TYP</th>\n",
       "      <th>FLEXBEN_TYPE</th>\n",
       "      <th>CLM_DT</th>\n",
       "      <th>CLM_YR</th>\n",
       "      <th>CLM_AMT</th>\n",
       "      <th>RCPT_DT</th>\n",
       "      <th>RCPT_DAY</th>\n",
       "      <th>DAY_TAG</th>\n",
       "      <th>CLM.STAT</th>\n",
       "      <th>REIMB_DT</th>\n",
       "      <th>REIMB_YR</th>\n",
       "      <th>EA_DT</th>\n",
       "      <th>RISK</th>\n",
       "      <th>ClaimTime</th>\n",
       "      <th>DistriTime</th>\n",
       "    </tr>\n",
       "    <tr>\n",
       "      <th>Index</th>\n",
       "      <th></th>\n",
       "      <th></th>\n",
       "      <th></th>\n",
       "      <th></th>\n",
       "      <th></th>\n",
       "      <th></th>\n",
       "      <th></th>\n",
       "      <th></th>\n",
       "      <th></th>\n",
       "      <th></th>\n",
       "      <th></th>\n",
       "      <th></th>\n",
       "      <th></th>\n",
       "      <th></th>\n",
       "      <th></th>\n",
       "      <th></th>\n",
       "      <th></th>\n",
       "      <th></th>\n",
       "    </tr>\n",
       "  </thead>\n",
       "  <tbody>\n",
       "    <tr>\n",
       "      <th>0</th>\n",
       "      <td>11869</td>\n",
       "      <td>WSA</td>\n",
       "      <td>EFSA0087162</td>\n",
       "      <td>FLXI</td>\n",
       "      <td>5.0</td>\n",
       "      <td>4/11/16</td>\n",
       "      <td>2016</td>\n",
       "      <td>492.0</td>\n",
       "      <td>29/9/16</td>\n",
       "      <td>Thursday</td>\n",
       "      <td>WEEKDAY</td>\n",
       "      <td>3</td>\n",
       "      <td>3/1/17</td>\n",
       "      <td>2017</td>\n",
       "      <td>21/9/17</td>\n",
       "      <td>1</td>\n",
       "      <td>6</td>\n",
       "      <td>24</td>\n",
       "    </tr>\n",
       "    <tr>\n",
       "      <th>1</th>\n",
       "      <td>8965</td>\n",
       "      <td>WSA</td>\n",
       "      <td>EFSA0087207</td>\n",
       "      <td>FLXI</td>\n",
       "      <td>4.0</td>\n",
       "      <td>9/11/16</td>\n",
       "      <td>2016</td>\n",
       "      <td>471.0</td>\n",
       "      <td>30/9/16</td>\n",
       "      <td>Friday</td>\n",
       "      <td>WEEKDAY</td>\n",
       "      <td>3</td>\n",
       "      <td>3/1/17</td>\n",
       "      <td>2017</td>\n",
       "      <td>21/9/17</td>\n",
       "      <td>1</td>\n",
       "      <td>10</td>\n",
       "      <td>23</td>\n",
       "    </tr>\n",
       "    <tr>\n",
       "      <th>2</th>\n",
       "      <td>8998</td>\n",
       "      <td>WSA</td>\n",
       "      <td>EFSA0087210</td>\n",
       "      <td>FLXI</td>\n",
       "      <td>6.0</td>\n",
       "      <td>9/11/16</td>\n",
       "      <td>2016</td>\n",
       "      <td>496.0</td>\n",
       "      <td>30/9/16</td>\n",
       "      <td>Friday</td>\n",
       "      <td>WEEKDAY</td>\n",
       "      <td>3</td>\n",
       "      <td>7/1/17</td>\n",
       "      <td>2017</td>\n",
       "      <td>21/9/17</td>\n",
       "      <td>1</td>\n",
       "      <td>10</td>\n",
       "      <td>23</td>\n",
       "    </tr>\n",
       "    <tr>\n",
       "      <th>3</th>\n",
       "      <td>2098</td>\n",
       "      <td>WSA</td>\n",
       "      <td>EFSA0087208</td>\n",
       "      <td>FLXI</td>\n",
       "      <td>2.0</td>\n",
       "      <td>9/11/16</td>\n",
       "      <td>2016</td>\n",
       "      <td>464.0</td>\n",
       "      <td>3/10/16</td>\n",
       "      <td>Monday</td>\n",
       "      <td>WEEKDAY</td>\n",
       "      <td>3</td>\n",
       "      <td>5/1/17</td>\n",
       "      <td>2017</td>\n",
       "      <td>21/9/17</td>\n",
       "      <td>1</td>\n",
       "      <td>7</td>\n",
       "      <td>20</td>\n",
       "    </tr>\n",
       "    <tr>\n",
       "      <th>4</th>\n",
       "      <td>9331</td>\n",
       "      <td>WSA</td>\n",
       "      <td>EFSA0087236</td>\n",
       "      <td>FLXI</td>\n",
       "      <td>2.0</td>\n",
       "      <td>11/11/16</td>\n",
       "      <td>2016</td>\n",
       "      <td>454.0</td>\n",
       "      <td>6/10/16</td>\n",
       "      <td>Thursday</td>\n",
       "      <td>WEEKDAY</td>\n",
       "      <td>3</td>\n",
       "      <td>2/1/17</td>\n",
       "      <td>2017</td>\n",
       "      <td>21/9/17</td>\n",
       "      <td>1</td>\n",
       "      <td>6</td>\n",
       "      <td>17</td>\n",
       "    </tr>\n",
       "  </tbody>\n",
       "</table>\n",
       "</div>"
      ],
      "text/plain": [
       "       EMP_ID CLM_SYS      CLM_REF WSA_TYP  FLEXBEN_TYPE    CLM_DT  CLM_YR  \\\n",
       "Index                                                                        \n",
       "0       11869     WSA  EFSA0087162    FLXI           5.0   4/11/16    2016   \n",
       "1        8965     WSA  EFSA0087207    FLXI           4.0   9/11/16    2016   \n",
       "2        8998     WSA  EFSA0087210    FLXI           6.0   9/11/16    2016   \n",
       "3        2098     WSA  EFSA0087208    FLXI           2.0   9/11/16    2016   \n",
       "4        9331     WSA  EFSA0087236    FLXI           2.0  11/11/16    2016   \n",
       "\n",
       "       CLM_AMT  RCPT_DT  RCPT_DAY  DAY_TAG  CLM.STAT REIMB_DT  REIMB_YR  \\\n",
       "Index                                                                     \n",
       "0        492.0  29/9/16  Thursday  WEEKDAY         3   3/1/17      2017   \n",
       "1        471.0  30/9/16    Friday  WEEKDAY         3   3/1/17      2017   \n",
       "2        496.0  30/9/16    Friday  WEEKDAY         3   7/1/17      2017   \n",
       "3        464.0  3/10/16    Monday  WEEKDAY         3   5/1/17      2017   \n",
       "4        454.0  6/10/16  Thursday  WEEKDAY         3   2/1/17      2017   \n",
       "\n",
       "         EA_DT  RISK  ClaimTime  DistriTime  \n",
       "Index                                        \n",
       "0      21/9/17     1          6          24  \n",
       "1      21/9/17     1         10          23  \n",
       "2      21/9/17     1         10          23  \n",
       "3      21/9/17     1          7          20  \n",
       "4      21/9/17     1          6          17  "
      ]
     },
     "execution_count": 7,
     "metadata": {},
     "output_type": "execute_result"
    }
   ],
   "source": [
    "claims_df_nona.head()"
   ]
  },
  {
   "cell_type": "code",
   "execution_count": 8,
   "metadata": {},
   "outputs": [],
   "source": [
    "X = claims_df_nona.drop(['RISK'], axis=1)\n",
    "X = pd.get_dummies(X)\n",
    "y = claims_df_nona['RISK']"
   ]
  },
  {
   "cell_type": "code",
   "execution_count": 9,
   "metadata": {},
   "outputs": [],
   "source": [
    "# from sklearn.model_selection import train_test_split\n",
    "# X_train, X_test, y_train, y_test= train_test_split(X, y, random_state=42, test_size=.2)"
   ]
  },
  {
   "cell_type": "code",
   "execution_count": 10,
   "metadata": {},
   "outputs": [],
   "source": [
    "from sklearn.neural_network import MLPClassifier\n",
    "nnclass = MLPClassifier(activation='logistic',max_iter=500,verbose=False)"
   ]
  },
  {
   "cell_type": "code",
   "execution_count": 15,
   "metadata": {},
   "outputs": [],
   "source": [
    "from sklearn.metrics import accuracy_score"
   ]
  },
  {
   "cell_type": "code",
   "execution_count": 16,
   "metadata": {},
   "outputs": [],
   "source": [
    "train_sizes = [43,50,100,250,500,750,1000,3000,5400]"
   ]
  },
  {
   "cell_type": "code",
   "execution_count": 17,
   "metadata": {},
   "outputs": [],
   "source": [
    "from sklearn.model_selection import learning_curve\n",
    "# from sklearn.model_selection import ShuffleSplit"
   ]
  },
  {
   "cell_type": "code",
   "execution_count": 18,
   "metadata": {},
   "outputs": [],
   "source": [
    "train_sizes, train_scores, validation_scores = learning_curve(estimator = nnclass,X=X,\n",
    "y=y, train_sizes = train_sizes, cv = 3,scoring='accuracy')"
   ]
  },
  {
   "cell_type": "code",
   "execution_count": 19,
   "metadata": {},
   "outputs": [
    {
     "name": "stdout",
     "output_type": "stream",
     "text": [
      "Training scores:\n",
      "\n",
      " [[0.81395349 0.86046512 0.86046512]\n",
      " [0.82       0.76       0.76      ]\n",
      " [0.79       0.78       0.9       ]\n",
      " [0.764      0.692      0.692     ]\n",
      " [0.75       0.732      0.732     ]\n",
      " [0.77333333 0.76266667 0.76266667]\n",
      " [0.775      0.775      0.775     ]\n",
      " [0.76933333 0.78366667 0.78366667]\n",
      " [0.77648148 0.77944444 0.77944444]]\n",
      "\n",
      " ----------------------------------------------------------------------\n",
      "\n",
      "Validation scores:\n",
      "\n",
      " [[0.7799201  0.54090672 0.53187424]\n",
      " [0.7799201  0.53031093 0.52197325]\n",
      " [0.7799201  0.593712   0.51328817]\n",
      " [0.7799201  0.7800938  0.7800938 ]\n",
      " [0.7799201  0.7800938  0.7800938 ]\n",
      " [0.7799201  0.7800938  0.7800938 ]\n",
      " [0.7799201  0.7800938  0.7800938 ]\n",
      " [0.7799201  0.7800938  0.7800938 ]\n",
      " [0.7799201  0.7800938  0.7800938 ]]\n"
     ]
    }
   ],
   "source": [
    "# Cross validation based training and test scores \n",
    "\n",
    "print('Training scores:\\n\\n', train_scores)\n",
    "print('\\n', '-' * 70) # separator to make the output easy to read\n",
    "print('\\nValidation scores:\\n\\n', validation_scores)"
   ]
  },
  {
   "cell_type": "code",
   "execution_count": 20,
   "metadata": {},
   "outputs": [
    {
     "name": "stdout",
     "output_type": "stream",
     "text": [
      "Mean training scores\n",
      "\n",
      " 43      0.844961\n",
      "50      0.780000\n",
      "100     0.823333\n",
      "250     0.716000\n",
      "500     0.738000\n",
      "750     0.766222\n",
      "1000    0.775000\n",
      "3000    0.778889\n",
      "5400    0.778457\n",
      "dtype: float64\n",
      "\n",
      " --------------------\n",
      "\n",
      "Mean validation scores\n",
      "\n",
      " 43      0.617567\n",
      "50      0.610735\n",
      "100     0.628973\n",
      "250     0.780036\n",
      "500     0.780036\n",
      "750     0.780036\n",
      "1000    0.780036\n",
      "3000    0.780036\n",
      "5400    0.780036\n",
      "dtype: float64\n"
     ]
    }
   ],
   "source": [
    "# Calculate mean values of scores to plot\n",
    "import numpy as np\n",
    "train_scores_mean = train_scores.mean(axis = 1)\n",
    "train_scores_std = np.std(train_scores, axis=1)\n",
    "validation_scores_mean = validation_scores.mean(axis = 1)\n",
    "validation_scores_std = np.std(validation_scores, axis=1)\n",
    "print('Mean training scores\\n\\n', pd.Series(train_scores_mean, index = train_sizes))\n",
    "print('\\n', '-' * 20) # separator\n",
    "print('\\nMean validation scores\\n\\n',pd.Series(validation_scores_mean, index = train_sizes))"
   ]
  },
  {
   "cell_type": "code",
   "execution_count": 21,
   "metadata": {},
   "outputs": [
    {
     "data": {
      "image/png": "[encoded data removed]",
      "text/plain": [
       "<Figure size 576x396 with 1 Axes>"
      ]
     },
     "metadata": {},
     "output_type": "display_data"
    }
   ],
   "source": [
    "import matplotlib.pyplot as plt\n",
    "plt.style.use('seaborn')\n",
    "plt.fill_between(train_sizes, train_scores_mean - train_scores_std,\n",
    "                     train_scores_mean + train_scores_std, alpha=0.1,\n",
    "                     color=\"r\")\n",
    "plt.fill_between(train_sizes, validation_scores_mean - validation_scores_std,\n",
    "                     validation_scores_mean + validation_scores_std, alpha=0.1, color=\"g\")\n",
    "plt.plot(train_sizes, train_scores_mean, label = 'Training error')\n",
    "plt.plot(train_sizes, validation_scores_mean, label = 'Validation error')\n",
    "plt.ylabel('Accuracy', fontsize = 14)\n",
    "plt.xlabel('Training set size', fontsize = 14)\n",
    "plt.title('Learning curves for a NN classification model', fontsize = 18, y = 1.03)\n",
    "plt.legend()\n",
    "plt.ylim(0.7,.8)\n",
    "plt.show()"
   ]
  },
  {
   "cell_type": "code",
   "execution_count": 23,
   "metadata": {},
   "outputs": [
    {
     "name": "stderr",
     "output_type": "stream",
     "text": [
      "/Users/senhmo/anaconda3/lib/python3.6/site-packages/IPython/core/interactiveshell.py:3063: DtypeWarning: Columns (15) have mixed types. Specify dtype option on import or set low_memory=False.\n",
      "  interactivity=interactivity, compiler=compiler, result=result)\n",
      "/Users/senhmo/anaconda3/lib/python3.6/site-packages/ipykernel_launcher.py:3: FutureWarning: Passing timedelta64-dtype data is deprecated, will raise a TypeError in a future version\n",
      "  This is separate from the ipykernel package so we can avoid doing imports until\n",
      "/Users/senhmo/anaconda3/lib/python3.6/site-packages/ipykernel_launcher.py:3: SettingWithCopyWarning: \n",
      "A value is trying to be set on a copy of a slice from a DataFrame.\n",
      "Try using .loc[row_indexer,col_indexer] = value instead\n",
      "\n",
      "See the caveats in the documentation: http://pandas.pydata.org/pandas-docs/stable/user_guide/indexing.html#returning-a-view-versus-a-copy\n",
      "  This is separate from the ipykernel package so we can avoid doing imports until\n",
      "/Users/senhmo/anaconda3/lib/python3.6/site-packages/ipykernel_launcher.py:4: FutureWarning: Passing timedelta64-dtype data is deprecated, will raise a TypeError in a future version\n",
      "  after removing the cwd from sys.path.\n",
      "/Users/senhmo/anaconda3/lib/python3.6/site-packages/ipykernel_launcher.py:4: SettingWithCopyWarning: \n",
      "A value is trying to be set on a copy of a slice from a DataFrame.\n",
      "Try using .loc[row_indexer,col_indexer] = value instead\n",
      "\n",
      "See the caveats in the documentation: http://pandas.pydata.org/pandas-docs/stable/user_guide/indexing.html#returning-a-view-versus-a-copy\n",
      "  after removing the cwd from sys.path.\n"
     ]
    }
   ],
   "source": [
    "claim_extrapolated_df = pd.read_csv('HWA-Brovsi-WSA-Claims.csv', index_col='Index')\n",
    "claim_extrapolated_nona_df = claim_extrapolated_df.dropna()\n",
    "claim_extrapolated_nona_df['ClaimTime'] = pd.DatetimeIndex(pd.to_datetime(claim_extrapolated_nona_df['CLM_DT'], format='%d/%m/%y') - pd.to_datetime(claim_extrapolated_nona_df['RCPT_DT'], format='%d/%m/%y')).day\n",
    "claim_extrapolated_nona_df['DistriTime'] = pd.DatetimeIndex(pd.to_datetime(claim_extrapolated_nona_df['EA_DT'], format='%d/%m/%y') - pd.to_datetime(claim_extrapolated_nona_df['RCPT_DT'], format='%d/%m/%y')).day\n",
    "claim_extrapolated_nona_df=pd.get_dummies(claim_extrapolated_nona_df)\n",
    "y_pred2 = nnclass.predict(claim_extrapolated_nona_df)"
   ]
  },
  {
   "cell_type": "code",
   "execution_count": 24,
   "metadata": {},
   "outputs": [
    {
     "data": {
      "text/plain": [
       "0"
      ]
     },
     "execution_count": 24,
     "metadata": {},
     "output_type": "execute_result"
    }
   ],
   "source": [
    "y_pred2.sum()"
   ]
  },
  {
   "cell_type": "code",
   "execution_count": null,
   "metadata": {},
   "outputs": [],
   "source": []
  }
 ],
 "metadata": {
  "kernelspec": {
   "display_name": "Python 3",
   "language": "python",
   "name": "python3"
  },
  "language_info": {
   "codemirror_mode": {
    "name": "ipython",
    "version": 3
   },
   "file_extension": ".py",
   "mimetype": "text/x-python",
   "name": "python",
   "nbconvert_exporter": "python",
   "pygments_lexer": "ipython3",
   "version": "3.6.10"
  }
 },
 "nbformat": 4,
 "nbformat_minor": 4
}
