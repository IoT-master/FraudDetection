{
  "nbformat": 4,
  "nbformat_minor": 0,
  "metadata": {
    "colab": {
      "name": "FraudDetection.ipynb",
      "provenance": [],
      "collapsed_sections": []
    },
    "kernelspec": {
      "name": "python3",
      "display_name": "Python 3"
    },
    "accelerator": "GPU"
  },
  "cells": [
    {
      "cell_type": "code",
      "metadata": {
        "id": "pUUPVjEuzaaM",
        "colab_type": "code",
        "colab": {
          "base_uri": "https://localhost:8080/",
          "height": 34
        },
        "outputId": "2aa1fd54-cd31-4964-d969-82a40cdc8aaf"
      },
      "source": [
        "!rm *"
      ],
      "execution_count": 4,
      "outputs": [
        {
          "output_type": "stream",
          "text": [
            "rm: cannot remove 'sample_data': Is a directory\n"
          ],
          "name": "stdout"
        }
      ]
    },
    {
      "cell_type": "code",
      "metadata": {
        "id": "4r11xg4Jzqlg",
        "colab_type": "code",
        "colab": {}
      },
      "source": [
        "# from google.colab import files\n",
        "# a = files.upload()"
      ],
      "execution_count": 0,
      "outputs": []
    },
    {
      "cell_type": "code",
      "metadata": {
        "id": "k9ckpziXz93V",
        "colab_type": "code",
        "colab": {
          "base_uri": "https://localhost:8080/",
          "height": 51
        },
        "outputId": "8d1889a1-a9cb-4fea-db52-1e275de05f06"
      },
      "source": [
        "import pandas as pd\n",
        "# import io\n",
        "# risk_df = pd.read_csv(io.BytesIO(a['HWA-Brovsi-WSA-Claims-Validated.csv']), index_col='CLM_REF')\n",
        "risk_df = pd.read_csv('https://raw.githubusercontent.com/IoT-master/FraudDetection/master/HWA-Brovsi-WSA-Claims-Validated.csv', index_col='CLM_REF')\n",
        "risk_df = risk_df.dropna()\n",
        "risk_df = risk_df.drop(['Index'], axis=1)\n",
        "risk_df['ClaimTime'] = pd.to_datetime(risk_df['CLM_DT'], format='%d/%m/%y') - pd.to_datetime(risk_df['RCPT_DT'], format='%d/%m/%y')\n",
        "risk_df['DistriTime'] = pd.to_datetime(risk_df['EA_DT'], format='%d/%m/%y') - pd.to_datetime(risk_df['RCPT_DT'], format='%d/%m/%y')"
      ],
      "execution_count": 6,
      "outputs": [
        {
          "output_type": "stream",
          "text": [
            "/usr/local/lib/python3.6/dist-packages/IPython/core/interactiveshell.py:2718: DtypeWarning: Columns (15) have mixed types.Specify dtype option on import or set low_memory=False.\n",
            "  interactivity=interactivity, compiler=compiler, result=result)\n"
          ],
          "name": "stderr"
        }
      ]
    },
    {
      "cell_type": "code",
      "metadata": {
        "id": "hP396Gca0LIZ",
        "colab_type": "code",
        "colab": {}
      },
      "source": [
        "import torch\n",
        "from torch.utils import data\n",
        "import pandas as pd\n",
        "\n",
        "class DataSplitter(data.Dataset):\n",
        "    'Characterizes a dataset for PyTorch'\n",
        "    def __init__(self, dataframe, features, labels):\n",
        "        'Initialization'\n",
        "        super(DataSplitter, self).__init__()\n",
        "        self.dataframe = dataframe\n",
        "        self.labels = labels\n",
        "        self.list_IDs = features\n",
        "\n",
        "    def __len__(self):\n",
        "        'Denotes the total number of samples'\n",
        "        return self.dataframe.shape[0]\n",
        "\n",
        "    def __getitem__(self, index):\n",
        "        'Generates one sample of data'\n",
        "        # Load data and get label\n",
        "        X = torch.FloatTensor(self.dataframe[self.list_IDs].to_numpy())[index]\n",
        "        y = (torch.LongTensor(self.dataframe[self.labels].to_numpy())).squeeze(1)[index]\n",
        "\n",
        "        return X, y"
      ],
      "execution_count": 0,
      "outputs": []
    },
    {
      "cell_type": "code",
      "metadata": {
        "id": "vuY0dIEF1HSu",
        "colab_type": "code",
        "colab": {
          "base_uri": "https://localhost:8080/",
          "height": 235
        },
        "outputId": "e3a35fc3-b914-4835-b7fc-81733c28bf66"
      },
      "source": [
        "risk_df.head()"
      ],
      "execution_count": 8,
      "outputs": [
        {
          "output_type": "execute_result",
          "data": {
            "text/html": [
              "<div>\n",
              "<style scoped>\n",
              "    .dataframe tbody tr th:only-of-type {\n",
              "        vertical-align: middle;\n",
              "    }\n",
              "\n",
              "    .dataframe tbody tr th {\n",
              "        vertical-align: top;\n",
              "    }\n",
              "\n",
              "    .dataframe thead th {\n",
              "        text-align: right;\n",
              "    }\n",
              "</style>\n",
              "<table border=\"1\" class=\"dataframe\">\n",
              "  <thead>\n",
              "    <tr style=\"text-align: right;\">\n",
              "      <th></th>\n",
              "      <th>EMP_ID</th>\n",
              "      <th>CLM_SYS</th>\n",
              "      <th>WSA_TYP</th>\n",
              "      <th>FLEXBEN_TYPE</th>\n",
              "      <th>CLM_DT</th>\n",
              "      <th>CLM_YR</th>\n",
              "      <th>CLM_AMT</th>\n",
              "      <th>RCPT_DT</th>\n",
              "      <th>RCPT_DAY</th>\n",
              "      <th>DAY_TAG</th>\n",
              "      <th>CLM.STAT</th>\n",
              "      <th>REIMB_DT</th>\n",
              "      <th>REIMB_YR</th>\n",
              "      <th>EA_DT</th>\n",
              "      <th>RISK</th>\n",
              "      <th>ClaimTime</th>\n",
              "      <th>DistriTime</th>\n",
              "    </tr>\n",
              "    <tr>\n",
              "      <th>CLM_REF</th>\n",
              "      <th></th>\n",
              "      <th></th>\n",
              "      <th></th>\n",
              "      <th></th>\n",
              "      <th></th>\n",
              "      <th></th>\n",
              "      <th></th>\n",
              "      <th></th>\n",
              "      <th></th>\n",
              "      <th></th>\n",
              "      <th></th>\n",
              "      <th></th>\n",
              "      <th></th>\n",
              "      <th></th>\n",
              "      <th></th>\n",
              "      <th></th>\n",
              "      <th></th>\n",
              "    </tr>\n",
              "  </thead>\n",
              "  <tbody>\n",
              "    <tr>\n",
              "      <th>EFSA0087162</th>\n",
              "      <td>11869</td>\n",
              "      <td>WSA</td>\n",
              "      <td>FLXI</td>\n",
              "      <td>5.0</td>\n",
              "      <td>4/11/16</td>\n",
              "      <td>2016</td>\n",
              "      <td>492.0</td>\n",
              "      <td>29/9/16</td>\n",
              "      <td>Thursday</td>\n",
              "      <td>WEEKDAY</td>\n",
              "      <td>3</td>\n",
              "      <td>3/1/17</td>\n",
              "      <td>2017</td>\n",
              "      <td>21/9/17</td>\n",
              "      <td>1</td>\n",
              "      <td>36 days</td>\n",
              "      <td>357 days</td>\n",
              "    </tr>\n",
              "    <tr>\n",
              "      <th>EFSA0087207</th>\n",
              "      <td>8965</td>\n",
              "      <td>WSA</td>\n",
              "      <td>FLXI</td>\n",
              "      <td>4.0</td>\n",
              "      <td>9/11/16</td>\n",
              "      <td>2016</td>\n",
              "      <td>471.0</td>\n",
              "      <td>30/9/16</td>\n",
              "      <td>Friday</td>\n",
              "      <td>WEEKDAY</td>\n",
              "      <td>3</td>\n",
              "      <td>3/1/17</td>\n",
              "      <td>2017</td>\n",
              "      <td>21/9/17</td>\n",
              "      <td>1</td>\n",
              "      <td>40 days</td>\n",
              "      <td>356 days</td>\n",
              "    </tr>\n",
              "    <tr>\n",
              "      <th>EFSA0087210</th>\n",
              "      <td>8998</td>\n",
              "      <td>WSA</td>\n",
              "      <td>FLXI</td>\n",
              "      <td>6.0</td>\n",
              "      <td>9/11/16</td>\n",
              "      <td>2016</td>\n",
              "      <td>496.0</td>\n",
              "      <td>30/9/16</td>\n",
              "      <td>Friday</td>\n",
              "      <td>WEEKDAY</td>\n",
              "      <td>3</td>\n",
              "      <td>7/1/17</td>\n",
              "      <td>2017</td>\n",
              "      <td>21/9/17</td>\n",
              "      <td>1</td>\n",
              "      <td>40 days</td>\n",
              "      <td>356 days</td>\n",
              "    </tr>\n",
              "    <tr>\n",
              "      <th>EFSA0087208</th>\n",
              "      <td>2098</td>\n",
              "      <td>WSA</td>\n",
              "      <td>FLXI</td>\n",
              "      <td>2.0</td>\n",
              "      <td>9/11/16</td>\n",
              "      <td>2016</td>\n",
              "      <td>464.0</td>\n",
              "      <td>3/10/16</td>\n",
              "      <td>Monday</td>\n",
              "      <td>WEEKDAY</td>\n",
              "      <td>3</td>\n",
              "      <td>5/1/17</td>\n",
              "      <td>2017</td>\n",
              "      <td>21/9/17</td>\n",
              "      <td>1</td>\n",
              "      <td>37 days</td>\n",
              "      <td>353 days</td>\n",
              "    </tr>\n",
              "    <tr>\n",
              "      <th>EFSA0087236</th>\n",
              "      <td>9331</td>\n",
              "      <td>WSA</td>\n",
              "      <td>FLXI</td>\n",
              "      <td>2.0</td>\n",
              "      <td>11/11/16</td>\n",
              "      <td>2016</td>\n",
              "      <td>454.0</td>\n",
              "      <td>6/10/16</td>\n",
              "      <td>Thursday</td>\n",
              "      <td>WEEKDAY</td>\n",
              "      <td>3</td>\n",
              "      <td>2/1/17</td>\n",
              "      <td>2017</td>\n",
              "      <td>21/9/17</td>\n",
              "      <td>1</td>\n",
              "      <td>36 days</td>\n",
              "      <td>350 days</td>\n",
              "    </tr>\n",
              "  </tbody>\n",
              "</table>\n",
              "</div>"
            ],
            "text/plain": [
              "             EMP_ID CLM_SYS WSA_TYP  ...  RISK ClaimTime  DistriTime\n",
              "CLM_REF                              ...                            \n",
              "EFSA0087162   11869     WSA    FLXI  ...     1   36 days    357 days\n",
              "EFSA0087207    8965     WSA    FLXI  ...     1   40 days    356 days\n",
              "EFSA0087210    8998     WSA    FLXI  ...     1   40 days    356 days\n",
              "EFSA0087208    2098     WSA    FLXI  ...     1   37 days    353 days\n",
              "EFSA0087236    9331     WSA    FLXI  ...     1   36 days    350 days\n",
              "\n",
              "[5 rows x 17 columns]"
            ]
          },
          "metadata": {
            "tags": []
          },
          "execution_count": 8
        }
      ]
    },
    {
      "cell_type": "code",
      "metadata": {
        "id": "_FlG56KE1kda",
        "colab_type": "code",
        "colab": {}
      },
      "source": [
        "risk_df['ClaimTime'] = risk_df['ClaimTime'].apply(lambda x: x.days)"
      ],
      "execution_count": 0,
      "outputs": []
    },
    {
      "cell_type": "code",
      "metadata": {
        "id": "D7uByOaG2Law",
        "colab_type": "code",
        "colab": {}
      },
      "source": [
        "risk_df['DistriTime'] = risk_df['DistriTime'].apply(lambda x: x.days)"
      ],
      "execution_count": 0,
      "outputs": []
    },
    {
      "cell_type": "code",
      "metadata": {
        "id": "wPQT-tkO6PST",
        "colab_type": "code",
        "colab": {}
      },
      "source": [
        "risk_df = risk_df.drop(['CLM_SYS', 'CLM_DT', 'RCPT_DT', 'REIMB_DT', 'EA_DT'], axis=1)"
      ],
      "execution_count": 0,
      "outputs": []
    },
    {
      "cell_type": "code",
      "metadata": {
        "id": "C6xumxkL3oSU",
        "colab_type": "code",
        "colab": {}
      },
      "source": [
        "risk_df = pd.get_dummies(risk_df)"
      ],
      "execution_count": 0,
      "outputs": []
    },
    {
      "cell_type": "code",
      "metadata": {
        "id": "jdCYgVQK3zTw",
        "colab_type": "code",
        "colab": {
          "base_uri": "https://localhost:8080/",
          "height": 470
        },
        "outputId": "a8cbfd18-4400-4628-d6f2-f78ef03a97fa"
      },
      "source": [
        "risk_df"
      ],
      "execution_count": 13,
      "outputs": [
        {
          "output_type": "execute_result",
          "data": {
            "text/html": [
              "<div>\n",
              "<style scoped>\n",
              "    .dataframe tbody tr th:only-of-type {\n",
              "        vertical-align: middle;\n",
              "    }\n",
              "\n",
              "    .dataframe tbody tr th {\n",
              "        vertical-align: top;\n",
              "    }\n",
              "\n",
              "    .dataframe thead th {\n",
              "        text-align: right;\n",
              "    }\n",
              "</style>\n",
              "<table border=\"1\" class=\"dataframe\">\n",
              "  <thead>\n",
              "    <tr style=\"text-align: right;\">\n",
              "      <th></th>\n",
              "      <th>EMP_ID</th>\n",
              "      <th>FLEXBEN_TYPE</th>\n",
              "      <th>CLM_YR</th>\n",
              "      <th>CLM_AMT</th>\n",
              "      <th>CLM.STAT</th>\n",
              "      <th>REIMB_YR</th>\n",
              "      <th>RISK</th>\n",
              "      <th>ClaimTime</th>\n",
              "      <th>DistriTime</th>\n",
              "      <th>WSA_TYP_FLXI</th>\n",
              "      <th>WSA_TYP_MIIS</th>\n",
              "      <th>RCPT_DAY_Friday</th>\n",
              "      <th>RCPT_DAY_Monday</th>\n",
              "      <th>RCPT_DAY_Saturday</th>\n",
              "      <th>RCPT_DAY_Sunday</th>\n",
              "      <th>RCPT_DAY_Thursday</th>\n",
              "      <th>RCPT_DAY_Tuesday</th>\n",
              "      <th>RCPT_DAY_Wednesday</th>\n",
              "      <th>DAY_TAG_HOLIDAY</th>\n",
              "      <th>DAY_TAG_WEEKDAY</th>\n",
              "      <th>DAY_TAG_WEEKEND</th>\n",
              "    </tr>\n",
              "    <tr>\n",
              "      <th>CLM_REF</th>\n",
              "      <th></th>\n",
              "      <th></th>\n",
              "      <th></th>\n",
              "      <th></th>\n",
              "      <th></th>\n",
              "      <th></th>\n",
              "      <th></th>\n",
              "      <th></th>\n",
              "      <th></th>\n",
              "      <th></th>\n",
              "      <th></th>\n",
              "      <th></th>\n",
              "      <th></th>\n",
              "      <th></th>\n",
              "      <th></th>\n",
              "      <th></th>\n",
              "      <th></th>\n",
              "      <th></th>\n",
              "      <th></th>\n",
              "      <th></th>\n",
              "      <th></th>\n",
              "    </tr>\n",
              "  </thead>\n",
              "  <tbody>\n",
              "    <tr>\n",
              "      <th>EFSA0087162</th>\n",
              "      <td>11869</td>\n",
              "      <td>5.0</td>\n",
              "      <td>2016</td>\n",
              "      <td>492.00</td>\n",
              "      <td>3</td>\n",
              "      <td>2017</td>\n",
              "      <td>1</td>\n",
              "      <td>36</td>\n",
              "      <td>357</td>\n",
              "      <td>1</td>\n",
              "      <td>0</td>\n",
              "      <td>0</td>\n",
              "      <td>0</td>\n",
              "      <td>0</td>\n",
              "      <td>0</td>\n",
              "      <td>1</td>\n",
              "      <td>0</td>\n",
              "      <td>0</td>\n",
              "      <td>0</td>\n",
              "      <td>1</td>\n",
              "      <td>0</td>\n",
              "    </tr>\n",
              "    <tr>\n",
              "      <th>EFSA0087207</th>\n",
              "      <td>8965</td>\n",
              "      <td>4.0</td>\n",
              "      <td>2016</td>\n",
              "      <td>471.00</td>\n",
              "      <td>3</td>\n",
              "      <td>2017</td>\n",
              "      <td>1</td>\n",
              "      <td>40</td>\n",
              "      <td>356</td>\n",
              "      <td>1</td>\n",
              "      <td>0</td>\n",
              "      <td>1</td>\n",
              "      <td>0</td>\n",
              "      <td>0</td>\n",
              "      <td>0</td>\n",
              "      <td>0</td>\n",
              "      <td>0</td>\n",
              "      <td>0</td>\n",
              "      <td>0</td>\n",
              "      <td>1</td>\n",
              "      <td>0</td>\n",
              "    </tr>\n",
              "    <tr>\n",
              "      <th>EFSA0087210</th>\n",
              "      <td>8998</td>\n",
              "      <td>6.0</td>\n",
              "      <td>2016</td>\n",
              "      <td>496.00</td>\n",
              "      <td>3</td>\n",
              "      <td>2017</td>\n",
              "      <td>1</td>\n",
              "      <td>40</td>\n",
              "      <td>356</td>\n",
              "      <td>1</td>\n",
              "      <td>0</td>\n",
              "      <td>1</td>\n",
              "      <td>0</td>\n",
              "      <td>0</td>\n",
              "      <td>0</td>\n",
              "      <td>0</td>\n",
              "      <td>0</td>\n",
              "      <td>0</td>\n",
              "      <td>0</td>\n",
              "      <td>1</td>\n",
              "      <td>0</td>\n",
              "    </tr>\n",
              "    <tr>\n",
              "      <th>EFSA0087208</th>\n",
              "      <td>2098</td>\n",
              "      <td>2.0</td>\n",
              "      <td>2016</td>\n",
              "      <td>464.00</td>\n",
              "      <td>3</td>\n",
              "      <td>2017</td>\n",
              "      <td>1</td>\n",
              "      <td>37</td>\n",
              "      <td>353</td>\n",
              "      <td>1</td>\n",
              "      <td>0</td>\n",
              "      <td>0</td>\n",
              "      <td>1</td>\n",
              "      <td>0</td>\n",
              "      <td>0</td>\n",
              "      <td>0</td>\n",
              "      <td>0</td>\n",
              "      <td>0</td>\n",
              "      <td>0</td>\n",
              "      <td>1</td>\n",
              "      <td>0</td>\n",
              "    </tr>\n",
              "    <tr>\n",
              "      <th>EFSA0087236</th>\n",
              "      <td>9331</td>\n",
              "      <td>2.0</td>\n",
              "      <td>2016</td>\n",
              "      <td>454.00</td>\n",
              "      <td>3</td>\n",
              "      <td>2017</td>\n",
              "      <td>1</td>\n",
              "      <td>36</td>\n",
              "      <td>350</td>\n",
              "      <td>1</td>\n",
              "      <td>0</td>\n",
              "      <td>0</td>\n",
              "      <td>0</td>\n",
              "      <td>0</td>\n",
              "      <td>0</td>\n",
              "      <td>1</td>\n",
              "      <td>0</td>\n",
              "      <td>0</td>\n",
              "      <td>0</td>\n",
              "      <td>1</td>\n",
              "      <td>0</td>\n",
              "    </tr>\n",
              "    <tr>\n",
              "      <th>...</th>\n",
              "      <td>...</td>\n",
              "      <td>...</td>\n",
              "      <td>...</td>\n",
              "      <td>...</td>\n",
              "      <td>...</td>\n",
              "      <td>...</td>\n",
              "      <td>...</td>\n",
              "      <td>...</td>\n",
              "      <td>...</td>\n",
              "      <td>...</td>\n",
              "      <td>...</td>\n",
              "      <td>...</td>\n",
              "      <td>...</td>\n",
              "      <td>...</td>\n",
              "      <td>...</td>\n",
              "      <td>...</td>\n",
              "      <td>...</td>\n",
              "      <td>...</td>\n",
              "      <td>...</td>\n",
              "      <td>...</td>\n",
              "      <td>...</td>\n",
              "    </tr>\n",
              "    <tr>\n",
              "      <th>EFSA0118916</th>\n",
              "      <td>10471</td>\n",
              "      <td>4.0</td>\n",
              "      <td>2018</td>\n",
              "      <td>500.00</td>\n",
              "      <td>3</td>\n",
              "      <td>2018</td>\n",
              "      <td>1</td>\n",
              "      <td>21</td>\n",
              "      <td>61</td>\n",
              "      <td>1</td>\n",
              "      <td>0</td>\n",
              "      <td>0</td>\n",
              "      <td>0</td>\n",
              "      <td>1</td>\n",
              "      <td>0</td>\n",
              "      <td>0</td>\n",
              "      <td>0</td>\n",
              "      <td>0</td>\n",
              "      <td>0</td>\n",
              "      <td>0</td>\n",
              "      <td>1</td>\n",
              "    </tr>\n",
              "    <tr>\n",
              "      <th>EFSA0119321</th>\n",
              "      <td>10426</td>\n",
              "      <td>4.0</td>\n",
              "      <td>2018</td>\n",
              "      <td>347.00</td>\n",
              "      <td>3</td>\n",
              "      <td>2018</td>\n",
              "      <td>0</td>\n",
              "      <td>29</td>\n",
              "      <td>61</td>\n",
              "      <td>1</td>\n",
              "      <td>0</td>\n",
              "      <td>0</td>\n",
              "      <td>0</td>\n",
              "      <td>1</td>\n",
              "      <td>0</td>\n",
              "      <td>0</td>\n",
              "      <td>0</td>\n",
              "      <td>0</td>\n",
              "      <td>0</td>\n",
              "      <td>0</td>\n",
              "      <td>1</td>\n",
              "    </tr>\n",
              "    <tr>\n",
              "      <th>EFSA0119454</th>\n",
              "      <td>7814</td>\n",
              "      <td>7.0</td>\n",
              "      <td>2018</td>\n",
              "      <td>75.47</td>\n",
              "      <td>3</td>\n",
              "      <td>2018</td>\n",
              "      <td>1</td>\n",
              "      <td>31</td>\n",
              "      <td>61</td>\n",
              "      <td>1</td>\n",
              "      <td>0</td>\n",
              "      <td>0</td>\n",
              "      <td>0</td>\n",
              "      <td>1</td>\n",
              "      <td>0</td>\n",
              "      <td>0</td>\n",
              "      <td>0</td>\n",
              "      <td>0</td>\n",
              "      <td>0</td>\n",
              "      <td>0</td>\n",
              "      <td>1</td>\n",
              "    </tr>\n",
              "    <tr>\n",
              "      <th>EFSA0118885</th>\n",
              "      <td>7889</td>\n",
              "      <td>7.0</td>\n",
              "      <td>2018</td>\n",
              "      <td>50.15</td>\n",
              "      <td>3</td>\n",
              "      <td>2018</td>\n",
              "      <td>1</td>\n",
              "      <td>20</td>\n",
              "      <td>61</td>\n",
              "      <td>1</td>\n",
              "      <td>0</td>\n",
              "      <td>0</td>\n",
              "      <td>0</td>\n",
              "      <td>1</td>\n",
              "      <td>0</td>\n",
              "      <td>0</td>\n",
              "      <td>0</td>\n",
              "      <td>0</td>\n",
              "      <td>0</td>\n",
              "      <td>0</td>\n",
              "      <td>1</td>\n",
              "    </tr>\n",
              "    <tr>\n",
              "      <th>EFSA0119620</th>\n",
              "      <td>3478</td>\n",
              "      <td>8.0</td>\n",
              "      <td>2018</td>\n",
              "      <td>474.00</td>\n",
              "      <td>3</td>\n",
              "      <td>2018</td>\n",
              "      <td>1</td>\n",
              "      <td>34</td>\n",
              "      <td>61</td>\n",
              "      <td>1</td>\n",
              "      <td>0</td>\n",
              "      <td>0</td>\n",
              "      <td>0</td>\n",
              "      <td>1</td>\n",
              "      <td>0</td>\n",
              "      <td>0</td>\n",
              "      <td>0</td>\n",
              "      <td>0</td>\n",
              "      <td>0</td>\n",
              "      <td>0</td>\n",
              "      <td>1</td>\n",
              "    </tr>\n",
              "  </tbody>\n",
              "</table>\n",
              "<p>17271 rows × 21 columns</p>\n",
              "</div>"
            ],
            "text/plain": [
              "             EMP_ID  FLEXBEN_TYPE  ...  DAY_TAG_WEEKDAY  DAY_TAG_WEEKEND\n",
              "CLM_REF                            ...                                  \n",
              "EFSA0087162   11869           5.0  ...                1                0\n",
              "EFSA0087207    8965           4.0  ...                1                0\n",
              "EFSA0087210    8998           6.0  ...                1                0\n",
              "EFSA0087208    2098           2.0  ...                1                0\n",
              "EFSA0087236    9331           2.0  ...                1                0\n",
              "...             ...           ...  ...              ...              ...\n",
              "EFSA0118916   10471           4.0  ...                0                1\n",
              "EFSA0119321   10426           4.0  ...                0                1\n",
              "EFSA0119454    7814           7.0  ...                0                1\n",
              "EFSA0118885    7889           7.0  ...                0                1\n",
              "EFSA0119620    3478           8.0  ...                0                1\n",
              "\n",
              "[17271 rows x 21 columns]"
            ]
          },
          "metadata": {
            "tags": []
          },
          "execution_count": 13
        }
      ]
    },
    {
      "cell_type": "code",
      "metadata": {
        "id": "wPPSFPIt-Rrz",
        "colab_type": "code",
        "colab": {
          "base_uri": "https://localhost:8080/",
          "height": 34
        },
        "outputId": "9bb54f9b-505f-4d51-9aa7-55ca14ec3db1"
      },
      "source": [
        "test_limit = int(risk_df.shape[0]*.8)\n",
        "risk_train = risk_df[:test_limit]\n",
        "risk_test = risk_df[test_limit:]\n",
        "risk_train.shape, risk_test.shape"
      ],
      "execution_count": 14,
      "outputs": [
        {
          "output_type": "execute_result",
          "data": {
            "text/plain": [
              "((13816, 21), (3455, 21))"
            ]
          },
          "metadata": {
            "tags": []
          },
          "execution_count": 14
        }
      ]
    },
    {
      "cell_type": "code",
      "metadata": {
        "id": "KVnQ7nuT32Fg",
        "colab_type": "code",
        "colab": {}
      },
      "source": [
        "x_features = list(risk_df.columns)\n",
        "x_features.remove('RISK')"
      ],
      "execution_count": 0,
      "outputs": []
    },
    {
      "cell_type": "code",
      "metadata": {
        "id": "kmvWB3-A37Ec",
        "colab_type": "code",
        "colab": {}
      },
      "source": [
        "ds = DataSplitter(risk_train, x_features, ['RISK'])"
      ],
      "execution_count": 0,
      "outputs": []
    },
    {
      "cell_type": "code",
      "metadata": {
        "id": "1TeL43JM4DW7",
        "colab_type": "code",
        "colab": {}
      },
      "source": [
        "params = {'batch_size': 50,\n",
        "          'shuffle': True,\n",
        "          'num_workers': 2}"
      ],
      "execution_count": 0,
      "outputs": []
    },
    {
      "cell_type": "code",
      "metadata": {
        "id": "EAcDa1yX4GFt",
        "colab_type": "code",
        "colab": {}
      },
      "source": [
        "# training_generator = data.DataLoader(ds, **params)"
      ],
      "execution_count": 0,
      "outputs": []
    },
    {
      "cell_type": "code",
      "metadata": {
        "id": "HRw4XiYS4OVY",
        "colab_type": "code",
        "colab": {}
      },
      "source": [
        "import torch\n",
        "import torch.nn as nn\n",
        "import torch.nn.functional as F\n",
        "class ANN(nn.Module):\n",
        "    def __init__(self):\n",
        "        super().__init__()\n",
        "        self.fc1 = nn.Linear(in_features=20, out_features=10)\n",
        "        self.fc2 = nn.Linear(in_features=10, out_features=5)\n",
        "        self.output = nn.Linear(in_features=5, out_features=2)\n",
        "    \n",
        "    def forward(self, x):\n",
        "        x = F.relu(self.fc1(x))\n",
        "        x = F.relu(self.fc2(x))\n",
        "        x = self.output(x)\n",
        "        return x"
      ],
      "execution_count": 0,
      "outputs": []
    },
    {
      "cell_type": "code",
      "metadata": {
        "id": "mUkOxk5T4Ucf",
        "colab_type": "code",
        "colab": {
          "base_uri": "https://localhost:8080/",
          "height": 102
        },
        "outputId": "a5ae5b1f-e1c6-4cb2-a6a1-d5dcb0f365c8"
      },
      "source": [
        "model = ANN()\n",
        "model"
      ],
      "execution_count": 20,
      "outputs": [
        {
          "output_type": "execute_result",
          "data": {
            "text/plain": [
              "ANN(\n",
              "  (fc1): Linear(in_features=20, out_features=10, bias=True)\n",
              "  (fc2): Linear(in_features=10, out_features=5, bias=True)\n",
              "  (output): Linear(in_features=5, out_features=2, bias=True)\n",
              ")"
            ]
          },
          "metadata": {
            "tags": []
          },
          "execution_count": 20
        }
      ]
    },
    {
      "cell_type": "code",
      "metadata": {
        "id": "328h7htN4X9u",
        "colab_type": "code",
        "colab": {}
      },
      "source": [
        "optimizer = torch.optim.Adam(model.parameters(), lr=0.01)\n",
        "criterion = nn.CrossEntropyLoss()"
      ],
      "execution_count": 0,
      "outputs": []
    },
    {
      "cell_type": "code",
      "metadata": {
        "id": "a4DJMqdF4cxm",
        "colab_type": "code",
        "colab": {}
      },
      "source": [
        "with torch.cuda.device(0):\n",
        "  training_generator = data.DataLoader(ds, **params)"
      ],
      "execution_count": 0,
      "outputs": []
    },
    {
      "cell_type": "code",
      "metadata": {
        "id": "oKDZu_By4f1G",
        "colab_type": "code",
        "colab": {
          "base_uri": "https://localhost:8080/",
          "height": 221
        },
        "outputId": "949d60b2-2ba0-4f33-9d61-4c96ed621006"
      },
      "source": [
        "%%time\n",
        "epochs = 100\n",
        "loss_arr = []\n",
        "with torch.cuda.device(0):\n",
        "  for i in range(epochs):\n",
        "      for x_train, y_train in training_generator:\n",
        "          y_hat = model.forward(x_train)\n",
        "          loss = criterion(y_hat, y_train)\n",
        "          loss_arr.append(loss)\n",
        "\n",
        "      if i % 10 == 0:\n",
        "          print(f'Epoch: {i} Loss: {loss}')\n",
        "\n",
        "      optimizer.zero_grad()\n",
        "      loss.backward()\n",
        "      optimizer.step()"
      ],
      "execution_count": 24,
      "outputs": [
        {
          "output_type": "stream",
          "text": [
            "Epoch: 0 Loss: 0.6403015851974487\n",
            "Epoch: 10 Loss: 0.5570825338363647\n",
            "Epoch: 20 Loss: 0.5939094424247742\n",
            "Epoch: 30 Loss: 0.625524640083313\n",
            "Epoch: 40 Loss: 0.43380290269851685\n",
            "Epoch: 50 Loss: 0.5623385906219482\n",
            "Epoch: 60 Loss: 0.6396323442459106\n",
            "Epoch: 70 Loss: 0.2432735115289688\n",
            "Epoch: 80 Loss: 0.48314395546913147\n",
            "Epoch: 90 Loss: 0.5682942271232605\n",
            "CPU times: user 40.1 s, sys: 13.1 s, total: 53.2 s\n",
            "Wall time: 45min 23s\n"
          ],
          "name": "stdout"
        }
      ]
    },
    {
      "cell_type": "code",
      "metadata": {
        "id": "We5vbgof7HSU",
        "colab_type": "code",
        "colab": {
          "base_uri": "https://localhost:8080/",
          "height": 34
        },
        "outputId": "531a1c07-e5c4-4b54-b72e-23793d29e58c"
      },
      "source": [
        "ds2 = DataSplitter(risk_test, x_features, ['RISK'])\n",
        "X_test = ds2[:][0]\n",
        "y_test = ds2[:][1]\n",
        "X_test.shape, y_test.shape"
      ],
      "execution_count": 26,
      "outputs": [
        {
          "output_type": "execute_result",
          "data": {
            "text/plain": [
              "(torch.Size([3455, 20]), torch.Size([3455]))"
            ]
          },
          "metadata": {
            "tags": []
          },
          "execution_count": 26
        }
      ]
    },
    {
      "cell_type": "code",
      "metadata": {
        "id": "ZpfMCzpx-k0l",
        "colab_type": "code",
        "colab": {}
      },
      "source": [
        "preds = []\n",
        "with torch.no_grad():\n",
        "    for val in X_test:\n",
        "        y_hat = model.forward(val)\n",
        "        preds.append(y_hat.argmax().item())"
      ],
      "execution_count": 0,
      "outputs": []
    },
    {
      "cell_type": "code",
      "metadata": {
        "id": "ljHubaSVA0lI",
        "colab_type": "code",
        "colab": {
          "base_uri": "https://localhost:8080/",
          "height": 419
        },
        "outputId": "856a77f6-320d-4784-d368-b094d8462871"
      },
      "source": [
        "df = pd.DataFrame({'Y': y_test, 'YHat': preds})\n",
        "df['Correct'] = [1 if corr == pred else 0 for corr, pred in zip(df['Y'], df['YHat'])]\n",
        "df"
      ],
      "execution_count": 28,
      "outputs": [
        {
          "output_type": "execute_result",
          "data": {
            "text/html": [
              "<div>\n",
              "<style scoped>\n",
              "    .dataframe tbody tr th:only-of-type {\n",
              "        vertical-align: middle;\n",
              "    }\n",
              "\n",
              "    .dataframe tbody tr th {\n",
              "        vertical-align: top;\n",
              "    }\n",
              "\n",
              "    .dataframe thead th {\n",
              "        text-align: right;\n",
              "    }\n",
              "</style>\n",
              "<table border=\"1\" class=\"dataframe\">\n",
              "  <thead>\n",
              "    <tr style=\"text-align: right;\">\n",
              "      <th></th>\n",
              "      <th>Y</th>\n",
              "      <th>YHat</th>\n",
              "      <th>Correct</th>\n",
              "    </tr>\n",
              "  </thead>\n",
              "  <tbody>\n",
              "    <tr>\n",
              "      <th>0</th>\n",
              "      <td>0</td>\n",
              "      <td>0</td>\n",
              "      <td>1</td>\n",
              "    </tr>\n",
              "    <tr>\n",
              "      <th>1</th>\n",
              "      <td>0</td>\n",
              "      <td>0</td>\n",
              "      <td>1</td>\n",
              "    </tr>\n",
              "    <tr>\n",
              "      <th>2</th>\n",
              "      <td>0</td>\n",
              "      <td>0</td>\n",
              "      <td>1</td>\n",
              "    </tr>\n",
              "    <tr>\n",
              "      <th>3</th>\n",
              "      <td>0</td>\n",
              "      <td>0</td>\n",
              "      <td>1</td>\n",
              "    </tr>\n",
              "    <tr>\n",
              "      <th>4</th>\n",
              "      <td>0</td>\n",
              "      <td>0</td>\n",
              "      <td>1</td>\n",
              "    </tr>\n",
              "    <tr>\n",
              "      <th>...</th>\n",
              "      <td>...</td>\n",
              "      <td>...</td>\n",
              "      <td>...</td>\n",
              "    </tr>\n",
              "    <tr>\n",
              "      <th>3450</th>\n",
              "      <td>1</td>\n",
              "      <td>0</td>\n",
              "      <td>0</td>\n",
              "    </tr>\n",
              "    <tr>\n",
              "      <th>3451</th>\n",
              "      <td>0</td>\n",
              "      <td>0</td>\n",
              "      <td>1</td>\n",
              "    </tr>\n",
              "    <tr>\n",
              "      <th>3452</th>\n",
              "      <td>1</td>\n",
              "      <td>0</td>\n",
              "      <td>0</td>\n",
              "    </tr>\n",
              "    <tr>\n",
              "      <th>3453</th>\n",
              "      <td>1</td>\n",
              "      <td>0</td>\n",
              "      <td>0</td>\n",
              "    </tr>\n",
              "    <tr>\n",
              "      <th>3454</th>\n",
              "      <td>1</td>\n",
              "      <td>0</td>\n",
              "      <td>0</td>\n",
              "    </tr>\n",
              "  </tbody>\n",
              "</table>\n",
              "<p>3455 rows × 3 columns</p>\n",
              "</div>"
            ],
            "text/plain": [
              "      Y  YHat  Correct\n",
              "0     0     0        1\n",
              "1     0     0        1\n",
              "2     0     0        1\n",
              "3     0     0        1\n",
              "4     0     0        1\n",
              "...  ..   ...      ...\n",
              "3450  1     0        0\n",
              "3451  0     0        1\n",
              "3452  1     0        0\n",
              "3453  1     0        0\n",
              "3454  1     0        0\n",
              "\n",
              "[3455 rows x 3 columns]"
            ]
          },
          "metadata": {
            "tags": []
          },
          "execution_count": 28
        }
      ]
    },
    {
      "cell_type": "code",
      "metadata": {
        "id": "BuUvL3cMA4oL",
        "colab_type": "code",
        "colab": {
          "base_uri": "https://localhost:8080/",
          "height": 34
        },
        "outputId": "777f1902-20a7-4961-db18-e0ef25544ad0"
      },
      "source": [
        "df['Correct'].sum() / len(df)"
      ],
      "execution_count": 29,
      "outputs": [
        {
          "output_type": "execute_result",
          "data": {
            "text/plain": [
              "0.7638205499276411"
            ]
          },
          "metadata": {
            "tags": []
          },
          "execution_count": 29
        }
      ]
    },
    {
      "cell_type": "code",
      "metadata": {
        "id": "wHORdjI0BBYa",
        "colab_type": "code",
        "colab": {
          "base_uri": "https://localhost:8080/",
          "height": 51
        },
        "outputId": "2e8f93fa-85fb-47c1-f2e6-70ffb1d91d9a"
      },
      "source": [
        "# b = files.upload()\n",
        "# risk_df = pd.read_csv(io.BytesIO(b['HWA-Brovsi-WSA-Claims.csv']), index_col='CLM_REF')\n",
        "risk_df2 = pd.read_csv('https://raw.githubusercontent.com/IoT-master/FraudDetection/master/HWA-Brovsi-WSA-Claims.csv', index_col='CLM_REF')\n",
        "risk_df2 = risk_df2.dropna()\n",
        "risk_df2['ClaimTime'] = pd.to_datetime(risk_df2['CLM_DT'], format='%d/%m/%y') - pd.to_datetime(risk_df2['RCPT_DT'], format='%d/%m/%y')\n",
        "risk_df2['DistriTime'] = pd.to_datetime(risk_df2['EA_DT'], format='%d/%m/%y') - pd.to_datetime(risk_df2['RCPT_DT'], format='%d/%m/%y')\n",
        "risk_df2['ClaimTime'] = risk_df2['ClaimTime'].apply(lambda x: x.days)\n",
        "risk_df2['DistriTime'] = risk_df2['DistriTime'].apply(lambda x: x.days)\n",
        "risk_df2 = risk_df2.drop(['Index', 'CLM_SYS', 'CLM_DT', 'RCPT_DT', 'REIMB_DT', 'EA_DT'], axis=1)\n",
        "risk_df2 = pd.get_dummies(risk_df2)"
      ],
      "execution_count": 40,
      "outputs": [
        {
          "output_type": "stream",
          "text": [
            "/usr/local/lib/python3.6/dist-packages/IPython/core/interactiveshell.py:2718: DtypeWarning: Columns (15) have mixed types.Specify dtype option on import or set low_memory=False.\n",
            "  interactivity=interactivity, compiler=compiler, result=result)\n"
          ],
          "name": "stderr"
        }
      ]
    },
    {
      "cell_type": "code",
      "metadata": {
        "id": "jKa3BTpWu-AD",
        "colab_type": "code",
        "colab": {
          "base_uri": "https://localhost:8080/",
          "height": 255
        },
        "outputId": "87eb60af-e80e-48f2-d0a1-43d5666af31b"
      },
      "source": [
        "risk_df2.head()"
      ],
      "execution_count": 41,
      "outputs": [
        {
          "output_type": "execute_result",
          "data": {
            "text/html": [
              "<div>\n",
              "<style scoped>\n",
              "    .dataframe tbody tr th:only-of-type {\n",
              "        vertical-align: middle;\n",
              "    }\n",
              "\n",
              "    .dataframe tbody tr th {\n",
              "        vertical-align: top;\n",
              "    }\n",
              "\n",
              "    .dataframe thead th {\n",
              "        text-align: right;\n",
              "    }\n",
              "</style>\n",
              "<table border=\"1\" class=\"dataframe\">\n",
              "  <thead>\n",
              "    <tr style=\"text-align: right;\">\n",
              "      <th></th>\n",
              "      <th>EMP_ID</th>\n",
              "      <th>FLEXBEN_TYPE</th>\n",
              "      <th>CLM_YR</th>\n",
              "      <th>CLM_AMT</th>\n",
              "      <th>CLM.STAT</th>\n",
              "      <th>REIMB_YR</th>\n",
              "      <th>ClaimTime</th>\n",
              "      <th>DistriTime</th>\n",
              "      <th>WSA_TYP_FLXI</th>\n",
              "      <th>WSA_TYP_MIIS</th>\n",
              "      <th>RCPT_DAY_Friday</th>\n",
              "      <th>RCPT_DAY_Monday</th>\n",
              "      <th>RCPT_DAY_Saturday</th>\n",
              "      <th>RCPT_DAY_Sunday</th>\n",
              "      <th>RCPT_DAY_Thursday</th>\n",
              "      <th>RCPT_DAY_Tuesday</th>\n",
              "      <th>RCPT_DAY_Wednesday</th>\n",
              "      <th>DAY_TAG_HOLIDAY</th>\n",
              "      <th>DAY_TAG_WEEKDAY</th>\n",
              "      <th>DAY_TAG_WEEKEND</th>\n",
              "    </tr>\n",
              "    <tr>\n",
              "      <th>CLM_REF</th>\n",
              "      <th></th>\n",
              "      <th></th>\n",
              "      <th></th>\n",
              "      <th></th>\n",
              "      <th></th>\n",
              "      <th></th>\n",
              "      <th></th>\n",
              "      <th></th>\n",
              "      <th></th>\n",
              "      <th></th>\n",
              "      <th></th>\n",
              "      <th></th>\n",
              "      <th></th>\n",
              "      <th></th>\n",
              "      <th></th>\n",
              "      <th></th>\n",
              "      <th></th>\n",
              "      <th></th>\n",
              "      <th></th>\n",
              "      <th></th>\n",
              "    </tr>\n",
              "  </thead>\n",
              "  <tbody>\n",
              "    <tr>\n",
              "      <th>EFSA0087162</th>\n",
              "      <td>11869</td>\n",
              "      <td>5.0</td>\n",
              "      <td>2016</td>\n",
              "      <td>492.0</td>\n",
              "      <td>3</td>\n",
              "      <td>2017</td>\n",
              "      <td>36</td>\n",
              "      <td>357</td>\n",
              "      <td>1</td>\n",
              "      <td>0</td>\n",
              "      <td>0</td>\n",
              "      <td>0</td>\n",
              "      <td>0</td>\n",
              "      <td>0</td>\n",
              "      <td>1</td>\n",
              "      <td>0</td>\n",
              "      <td>0</td>\n",
              "      <td>0</td>\n",
              "      <td>1</td>\n",
              "      <td>0</td>\n",
              "    </tr>\n",
              "    <tr>\n",
              "      <th>EFSA0087207</th>\n",
              "      <td>8965</td>\n",
              "      <td>4.0</td>\n",
              "      <td>2016</td>\n",
              "      <td>471.0</td>\n",
              "      <td>3</td>\n",
              "      <td>2017</td>\n",
              "      <td>40</td>\n",
              "      <td>356</td>\n",
              "      <td>1</td>\n",
              "      <td>0</td>\n",
              "      <td>1</td>\n",
              "      <td>0</td>\n",
              "      <td>0</td>\n",
              "      <td>0</td>\n",
              "      <td>0</td>\n",
              "      <td>0</td>\n",
              "      <td>0</td>\n",
              "      <td>0</td>\n",
              "      <td>1</td>\n",
              "      <td>0</td>\n",
              "    </tr>\n",
              "    <tr>\n",
              "      <th>EFSA0087210</th>\n",
              "      <td>8998</td>\n",
              "      <td>6.0</td>\n",
              "      <td>2016</td>\n",
              "      <td>496.0</td>\n",
              "      <td>3</td>\n",
              "      <td>2017</td>\n",
              "      <td>40</td>\n",
              "      <td>356</td>\n",
              "      <td>1</td>\n",
              "      <td>0</td>\n",
              "      <td>1</td>\n",
              "      <td>0</td>\n",
              "      <td>0</td>\n",
              "      <td>0</td>\n",
              "      <td>0</td>\n",
              "      <td>0</td>\n",
              "      <td>0</td>\n",
              "      <td>0</td>\n",
              "      <td>1</td>\n",
              "      <td>0</td>\n",
              "    </tr>\n",
              "    <tr>\n",
              "      <th>EFSA0087208</th>\n",
              "      <td>2098</td>\n",
              "      <td>2.0</td>\n",
              "      <td>2016</td>\n",
              "      <td>464.0</td>\n",
              "      <td>3</td>\n",
              "      <td>2017</td>\n",
              "      <td>37</td>\n",
              "      <td>353</td>\n",
              "      <td>1</td>\n",
              "      <td>0</td>\n",
              "      <td>0</td>\n",
              "      <td>1</td>\n",
              "      <td>0</td>\n",
              "      <td>0</td>\n",
              "      <td>0</td>\n",
              "      <td>0</td>\n",
              "      <td>0</td>\n",
              "      <td>0</td>\n",
              "      <td>1</td>\n",
              "      <td>0</td>\n",
              "    </tr>\n",
              "    <tr>\n",
              "      <th>EFSA0087236</th>\n",
              "      <td>9331</td>\n",
              "      <td>2.0</td>\n",
              "      <td>2016</td>\n",
              "      <td>454.0</td>\n",
              "      <td>3</td>\n",
              "      <td>2017</td>\n",
              "      <td>36</td>\n",
              "      <td>350</td>\n",
              "      <td>1</td>\n",
              "      <td>0</td>\n",
              "      <td>0</td>\n",
              "      <td>0</td>\n",
              "      <td>0</td>\n",
              "      <td>0</td>\n",
              "      <td>1</td>\n",
              "      <td>0</td>\n",
              "      <td>0</td>\n",
              "      <td>0</td>\n",
              "      <td>1</td>\n",
              "      <td>0</td>\n",
              "    </tr>\n",
              "  </tbody>\n",
              "</table>\n",
              "</div>"
            ],
            "text/plain": [
              "             EMP_ID  FLEXBEN_TYPE  ...  DAY_TAG_WEEKDAY  DAY_TAG_WEEKEND\n",
              "CLM_REF                            ...                                  \n",
              "EFSA0087162   11869           5.0  ...                1                0\n",
              "EFSA0087207    8965           4.0  ...                1                0\n",
              "EFSA0087210    8998           6.0  ...                1                0\n",
              "EFSA0087208    2098           2.0  ...                1                0\n",
              "EFSA0087236    9331           2.0  ...                1                0\n",
              "\n",
              "[5 rows x 20 columns]"
            ]
          },
          "metadata": {
            "tags": []
          },
          "execution_count": 41
        }
      ]
    },
    {
      "cell_type": "code",
      "metadata": {
        "id": "bR8rQ7CLUa11",
        "colab_type": "code",
        "colab": {}
      },
      "source": [
        "x_val = torch.FloatTensor(risk_df2.to_numpy())"
      ],
      "execution_count": 0,
      "outputs": []
    },
    {
      "cell_type": "code",
      "metadata": {
        "id": "XwAYRR0CBqxN",
        "colab_type": "code",
        "colab": {}
      },
      "source": [
        "preds2 = []\n",
        "with torch.no_grad():\n",
        "    for val in x_val:\n",
        "        y_hat = model.forward(val)\n",
        "        preds2.append(y_hat.argmax().item())"
      ],
      "execution_count": 0,
      "outputs": []
    },
    {
      "cell_type": "code",
      "metadata": {
        "id": "U-p_f8TeVkRn",
        "colab_type": "code",
        "colab": {}
      },
      "source": [
        "df = pd.DataFrame(preds2) \n",
        "df.to_csv('predictions.csv') "
      ],
      "execution_count": 0,
      "outputs": []
    },
    {
      "cell_type": "code",
      "metadata": {
        "id": "arNmi6qnwEC2",
        "colab_type": "code",
        "colab": {
          "base_uri": "https://localhost:8080/",
          "height": 1000
        },
        "outputId": "82e0f7b5-9d9c-4380-d2cb-3a6af55c6dda"
      },
      "source": [
        "for each_matrix in model.parameters():\n",
        "  print(each_matrix)"
      ],
      "execution_count": 46,
      "outputs": [
        {
          "output_type": "stream",
          "text": [
            "Parameter containing:\n",
            "tensor([[-2.0640e-01, -2.5840e-02, -1.6329e-01,  9.2314e-02, -1.3945e-01,\n",
            "         -4.1647e-02,  3.2516e-02,  1.1045e-01, -1.3764e-01,  1.2492e-01,\n",
            "         -1.1641e-01, -2.3108e-03, -1.1723e-01,  1.4494e-01, -7.3914e-02,\n",
            "         -2.0082e-01,  7.5567e-02,  9.0076e-02, -3.7604e-02, -3.7278e-02],\n",
            "        [ 7.7819e-03, -2.4571e-01, -2.4010e-01, -1.3134e-01, -2.4660e-01,\n",
            "         -1.6567e-01, -1.6203e-01, -2.2166e-01,  5.4706e-02, -9.8691e-02,\n",
            "          1.1383e-02,  8.5480e-02, -2.0716e-01,  5.0834e-02, -1.2506e-01,\n",
            "         -1.7294e-01,  2.9548e-02, -9.2822e-02, -2.4140e-01,  8.9915e-02],\n",
            "        [ 4.9448e-02, -1.5781e-01, -2.2444e-01, -1.6426e-01, -1.0753e-01,\n",
            "         -1.8584e-01, -5.3418e-02, -2.1863e-01, -5.6292e-02,  8.3317e-02,\n",
            "         -1.4149e-01, -3.1789e-01, -9.7351e-03, -5.2981e-06,  2.3019e-01,\n",
            "          4.9712e-02, -2.7051e-01, -2.7131e-01, -6.8496e-02, -1.8449e-01],\n",
            "        [-2.1574e-01, -2.0167e-01,  6.8130e-02, -1.7273e-01, -1.9609e-01,\n",
            "          2.0048e-02,  1.2275e-01,  2.0834e-01, -1.3555e-01, -7.7016e-02,\n",
            "         -9.1732e-02,  7.4747e-02, -2.0155e-01,  1.1664e-01, -2.0444e-02,\n",
            "          1.0033e-01, -6.0460e-02,  3.3988e-02,  2.0704e-01, -1.0271e-01],\n",
            "        [ 8.2860e-03, -1.9961e-01, -2.7614e-01, -2.3718e-01, -1.6076e-01,\n",
            "          1.2757e-01, -1.8096e-01, -1.3386e-01, -1.7372e-01, -1.1510e-01,\n",
            "         -7.5857e-02, -2.0191e-01, -2.5792e-01, -2.7076e-02, -2.9356e-02,\n",
            "         -1.0503e-01, -1.7999e-01,  3.2642e-02,  2.6330e-02,  1.5836e-01],\n",
            "        [-5.6418e-02,  1.7565e-01, -1.3381e-01,  6.8511e-02, -4.1131e-02,\n",
            "          1.7667e-02,  1.5761e-01, -1.0921e-01, -3.2484e-02, -1.1350e-01,\n",
            "         -6.6437e-02, -1.4640e-01, -1.7077e-01, -1.6573e-01, -2.1538e-01,\n",
            "         -8.9571e-02,  1.7802e-01,  1.8080e-01,  1.3558e-01,  3.3976e-02],\n",
            "        [-1.5490e-01,  8.1826e-02, -1.2682e-01, -1.4765e-01, -1.3435e-01,\n",
            "          1.0208e-01, -6.9410e-02, -1.8699e-01, -1.5870e-01, -7.3835e-02,\n",
            "          3.9533e-02,  2.0358e-01, -2.0500e-01, -1.9764e-01, -1.1998e-01,\n",
            "         -1.9451e-01, -1.7050e-01, -1.8029e-01, -1.0741e-01, -2.0036e-01],\n",
            "        [ 3.0798e-02, -2.5059e-02, -1.2855e-01,  3.3513e-02, -9.4182e-02,\n",
            "         -1.2035e-01,  9.4682e-02, -1.9641e-01, -8.5160e-02,  9.9988e-03,\n",
            "          2.0074e-01, -1.8451e-02,  1.4320e-01,  1.4918e-01,  1.4317e-02,\n",
            "          1.2577e-01, -1.4933e-01,  8.8784e-02, -2.7259e-02, -1.5948e-01],\n",
            "        [ 1.3762e-02, -2.2055e-01, -1.6205e-01, -1.1963e-01, -8.2303e-02,\n",
            "          6.6499e-02,  7.4299e-02, -5.0124e-02,  4.2228e-02,  5.5532e-02,\n",
            "         -2.0579e-01,  7.3818e-02, -2.1804e-01, -1.0281e-01, -3.2542e-01,\n",
            "         -1.6451e-01, -1.9921e-01, -1.6998e-01, -2.3259e-01,  1.5467e-01],\n",
            "        [-1.1881e-01,  2.6405e-02, -1.8125e-01,  1.2468e-02, -1.4976e-01,\n",
            "         -1.4099e-01,  8.4423e-02,  2.0837e-01,  1.9449e-02,  1.4724e-01,\n",
            "          1.3499e-01, -1.2038e-01, -1.4635e-01,  4.5878e-02, -1.2122e-01,\n",
            "         -1.7158e-01, -1.2326e-01,  1.6905e-01,  7.7614e-02,  7.9160e-02]],\n",
            "       requires_grad=True)\n",
            "Parameter containing:\n",
            "tensor([-0.1788, -0.0673, -0.0926,  0.1403, -0.2044, -0.0671, -0.1207, -0.0733,\n",
            "        -0.0708, -0.2137], requires_grad=True)\n",
            "Parameter containing:\n",
            "tensor([[ 0.2535,  0.0187,  0.2276, -0.1593, -0.0153, -0.2128, -0.2534,  0.1818,\n",
            "         -0.0531,  0.0736],\n",
            "        [ 0.0238, -0.1534,  0.2400,  0.2265,  0.1169, -0.2613, -0.1860,  0.2990,\n",
            "         -0.0701,  0.0170],\n",
            "        [-0.2797,  0.0405, -0.0195, -0.1876, -0.0299, -0.0100,  0.2417,  0.2153,\n",
            "         -0.1517, -0.1624],\n",
            "        [-0.0768,  0.1371,  0.3314,  0.2000,  0.0030,  0.1404,  0.0125, -0.0546,\n",
            "         -0.2385, -0.2036],\n",
            "        [ 0.0378, -0.0716,  0.2053,  0.0107,  0.1954,  0.1669,  0.2713,  0.2305,\n",
            "          0.0178,  0.2369]], requires_grad=True)\n",
            "Parameter containing:\n",
            "tensor([ 0.6732, -0.0553, -0.1162, -0.1263,  0.7816], requires_grad=True)\n",
            "Parameter containing:\n",
            "tensor([[ 0.3767, -0.4103, -0.3735,  0.0017,  0.3904],\n",
            "        [-0.1641,  0.3932, -0.1854,  0.2041, -0.3123]], requires_grad=True)\n",
            "Parameter containing:\n",
            "tensor([ 0.2704, -0.1038], requires_grad=True)\n"
          ],
          "name": "stdout"
        }
      ]
    },
    {
      "cell_type": "code",
      "metadata": {
        "id": "4QG019TOwJm5",
        "colab_type": "code",
        "colab": {}
      },
      "source": [
        "from google.colab import files\n",
        "files.download('predictions.csv') "
      ],
      "execution_count": 0,
      "outputs": []
    }
  ]
}